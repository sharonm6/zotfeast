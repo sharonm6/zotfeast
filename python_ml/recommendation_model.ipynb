{
 "cells": [
  {
   "attachments": {},
   "cell_type": "markdown",
   "metadata": {},
   "source": [
    "Reference: [Recommendation System Implementation With Deep Learning and PyTorch](https://medium.com/swlh/recommendation-system-implementation-with-deep-learning-and-pytorch-a03ee84a96f4)"
   ]
  },
  {
   "cell_type": "code",
   "execution_count": 1234,
   "metadata": {},
   "outputs": [],
   "source": [
    "import torch\n",
    "import torch.nn as nn\n",
    "import torch.optim as optim\n",
    "from torch.optim.lr_scheduler import _LRScheduler\n",
    "\n",
    "from sklearn.model_selection import train_test_split\n",
    "from sklearn.metrics import mean_squared_error\n",
    "import onnx\n",
    "\n",
    "import numpy as np\n",
    "import pandas as pd\n",
    "import matplotlib.pyplot as plt\n",
    "\n",
    "import os\n",
    "import math\n",
    "import copy\n",
    "from pathlib import Path\n",
    "from itertools import zip_longest"
   ]
  },
  {
   "cell_type": "code",
   "execution_count": 1201,
   "metadata": {},
   "outputs": [],
   "source": [
    "def set_random_seed(state=1):\n",
    "    gens = (np.random.seed, torch.manual_seed, torch.cuda.manual_seed)\n",
    "    for set_state in gens:\n",
    "        set_state(state)"
   ]
  },
  {
   "cell_type": "code",
   "execution_count": 1202,
   "metadata": {},
   "outputs": [],
   "source": [
    "RANDOM_STATE = 1\n",
    "set_random_seed(RANDOM_STATE)"
   ]
  },
  {
   "attachments": {},
   "cell_type": "markdown",
   "metadata": {},
   "source": [
    "# Prepare data"
   ]
  },
  {
   "cell_type": "code",
   "execution_count": 1203,
   "metadata": {},
   "outputs": [],
   "source": [
    "def read_data(path):\n",
    "    files = {}\n",
    "    for filename in path.glob('*'):\n",
    "        if filename.suffix == '.csv':\n",
    "            files[filename.stem] = pd.read_csv(filename)\n",
    "    return files['input']\n",
    "input_df = read_data(Path('data/input'))"
   ]
  },
  {
   "cell_type": "code",
   "execution_count": 1204,
   "metadata": {},
   "outputs": [
    {
     "data": {
      "text/html": [
       "<div>\n",
       "<style scoped>\n",
       "    .dataframe tbody tr th:only-of-type {\n",
       "        vertical-align: middle;\n",
       "    }\n",
       "\n",
       "    .dataframe tbody tr th {\n",
       "        vertical-align: top;\n",
       "    }\n",
       "\n",
       "    .dataframe thead th {\n",
       "        text-align: right;\n",
       "    }\n",
       "</style>\n",
       "<table border=\"1\" class=\"dataframe\">\n",
       "  <thead>\n",
       "    <tr style=\"text-align: right;\">\n",
       "      <th></th>\n",
       "      <th>Schedule</th>\n",
       "      <th>Time</th>\n",
       "      <th>Distance</th>\n",
       "      <th>Task</th>\n",
       "      <th>Duration</th>\n",
       "      <th>Response</th>\n",
       "    </tr>\n",
       "  </thead>\n",
       "  <tbody>\n",
       "    <tr>\n",
       "      <th>0</th>\n",
       "      <td>00001001010010110000111010111001</td>\n",
       "      <td>2</td>\n",
       "      <td>1.277319</td>\n",
       "      <td>0</td>\n",
       "      <td>0.568359</td>\n",
       "      <td>1</td>\n",
       "    </tr>\n",
       "    <tr>\n",
       "      <th>1</th>\n",
       "      <td>10100011011110001011010111001011</td>\n",
       "      <td>22</td>\n",
       "      <td>3.059492</td>\n",
       "      <td>0</td>\n",
       "      <td>0.274394</td>\n",
       "      <td>1</td>\n",
       "    </tr>\n",
       "    <tr>\n",
       "      <th>2</th>\n",
       "      <td>10000110010010101010010000010110</td>\n",
       "      <td>29</td>\n",
       "      <td>9.198375</td>\n",
       "      <td>1</td>\n",
       "      <td>1.456503</td>\n",
       "      <td>0</td>\n",
       "    </tr>\n",
       "    <tr>\n",
       "      <th>3</th>\n",
       "      <td>10100111010011101011110101001110</td>\n",
       "      <td>20</td>\n",
       "      <td>8.224114</td>\n",
       "      <td>1</td>\n",
       "      <td>1.044935</td>\n",
       "      <td>0</td>\n",
       "    </tr>\n",
       "    <tr>\n",
       "      <th>4</th>\n",
       "      <td>10010110101011111100101101011000</td>\n",
       "      <td>17</td>\n",
       "      <td>5.196694</td>\n",
       "      <td>0</td>\n",
       "      <td>0.857424</td>\n",
       "      <td>0</td>\n",
       "    </tr>\n",
       "  </tbody>\n",
       "</table>\n",
       "</div>"
      ],
      "text/plain": [
       "                           Schedule  Time  Distance  Task  Duration  Response\n",
       "0  00001001010010110000111010111001     2  1.277319     0  0.568359         1\n",
       "1  10100011011110001011010111001011    22  3.059492     0  0.274394         1\n",
       "2  10000110010010101010010000010110    29  9.198375     1  1.456503         0\n",
       "3  10100111010011101011110101001110    20  8.224114     1  1.044935         0\n",
       "4  10010110101011111100101101011000    17  5.196694     0  0.857424         0"
      ]
     },
     "execution_count": 1204,
     "metadata": {},
     "output_type": "execute_result"
    }
   ],
   "source": [
    "input_df.head()"
   ]
  },
  {
   "cell_type": "code",
   "execution_count": 1205,
   "metadata": {},
   "outputs": [
    {
     "data": {
      "text/plain": [
       "(10000, 6)"
      ]
     },
     "execution_count": 1205,
     "metadata": {},
     "output_type": "execute_result"
    }
   ],
   "source": [
    "input_df.shape"
   ]
  },
  {
   "cell_type": "code",
   "execution_count": 1206,
   "metadata": {},
   "outputs": [],
   "source": [
    "def create_dataset(input_df, top=None):    \n",
    "    num_entries = input_df.shape[0]\n",
    "    num_fields = input_df.shape[1] - 1\n",
    "    \n",
    "    X = input_df.drop(['Response'], axis=1)\n",
    "    y = input_df['Response'].astype(int)\n",
    "    return (num_entries, num_fields), (X, y)"
   ]
  },
  {
   "cell_type": "code",
   "execution_count": 1207,
   "metadata": {},
   "outputs": [
    {
     "name": "stdout",
     "output_type": "stream",
     "text": [
      "10000 entries, 5 fields\n",
      "Dataset shape: (10000, 5)\n",
      "Target shape: (10000,)\n"
     ]
    }
   ],
   "source": [
    "(num_entries, num_fields), (X, y) = create_dataset(input_df)\n",
    "print(f'{num_entries} entries, {num_fields} fields')\n",
    "print(f'Dataset shape: {X.shape}')\n",
    "print(f'Target shape: {y.shape}')"
   ]
  },
  {
   "cell_type": "code",
   "execution_count": 1208,
   "metadata": {},
   "outputs": [],
   "source": [
    "class ReviewsIterator:\n",
    "    def __init__(self, X, y, batch_size=32, shuffle=True):\n",
    "        X, y = np.asarray(X), np.asarray(y)\n",
    "        \n",
    "        if shuffle:\n",
    "            index = np.random.permutation(X.shape[0])\n",
    "            X, y = X[index], y[index]\n",
    "            \n",
    "        self.X = X\n",
    "        self.y = y\n",
    "        self.batch_size = batch_size\n",
    "        self.shuffle = shuffle\n",
    "        self.n_batches = int(math.ceil(X.shape[0] // batch_size))\n",
    "        self._current = 0\n",
    "        \n",
    "    def __iter__(self):\n",
    "        return self\n",
    "    \n",
    "    def __next__(self):\n",
    "        return self.next()\n",
    "    \n",
    "    def next(self):\n",
    "        if self._current >= self.n_batches:\n",
    "            raise StopIteration()\n",
    "        k = self._current\n",
    "        self._current += 1\n",
    "        bs = self.batch_size\n",
    "        return self.X[k*bs:(k + 1)*bs], self.y[k*bs:(k + 1)*bs]"
   ]
  },
  {
   "cell_type": "code",
   "execution_count": 1209,
   "metadata": {},
   "outputs": [],
   "source": [
    "def batches(X, y, bs=32, shuffle=True):\n",
    "    for xb, yb in ReviewsIterator(X, y, bs, shuffle):\n",
    "        xb = [[\n",
    "                torch.tensor(x_field).float() \n",
    "                if isinstance(x_field, (int, float)) else x_field for x_field in x\n",
    "            ] for x in xb]\n",
    "        xb = [[\n",
    "                torch.tensor(np.array([int(digit) for digit in x_field])) \n",
    "                if isinstance(x_field, str) else x_field for x_field in x\n",
    "            ] for x in xb]\n",
    "\n",
    "        xb = [torch.cat([x[0].unsqueeze(0)] + [torch.tensor([[elem]]) for elem in x[1:]], dim=1) for x in xb]\n",
    "        \n",
    "        xb = torch.stack(xb)\n",
    "        yb = torch.FloatTensor(yb)\n",
    "        yield xb, yb.view(-1, 1)"
   ]
  },
  {
   "cell_type": "code",
   "execution_count": 1210,
   "metadata": {},
   "outputs": [
    {
     "name": "stdout",
     "output_type": "stream",
     "text": [
      "tensor([[[ 1.0000,  0.0000,  0.0000,  0.0000,  1.0000,  1.0000,  1.0000,\n",
      "           1.0000,  0.0000,  0.0000,  0.0000,  0.0000,  0.0000,  1.0000,\n",
      "           1.0000,  1.0000,  1.0000,  0.0000,  1.0000,  0.0000,  0.0000,\n",
      "           0.0000,  0.0000,  1.0000,  0.0000,  1.0000,  0.0000,  0.0000,\n",
      "           0.0000,  1.0000,  0.0000,  0.0000, 25.0000,  1.9817,  1.0000,\n",
      "           0.4680]],\n",
      "\n",
      "        [[ 0.0000,  0.0000,  1.0000,  1.0000,  0.0000,  0.0000,  1.0000,\n",
      "           0.0000,  0.0000,  0.0000,  1.0000,  1.0000,  1.0000,  0.0000,\n",
      "           0.0000,  0.0000,  0.0000,  0.0000,  1.0000,  1.0000,  0.0000,\n",
      "           0.0000,  0.0000,  0.0000,  1.0000,  0.0000,  1.0000,  1.0000,\n",
      "           1.0000,  1.0000,  0.0000,  0.0000,  3.0000,  7.7780,  0.0000,\n",
      "           0.4059]],\n",
      "\n",
      "        [[ 0.0000,  1.0000,  0.0000,  0.0000,  0.0000,  1.0000,  1.0000,\n",
      "           0.0000,  1.0000,  0.0000,  1.0000,  1.0000,  1.0000,  1.0000,\n",
      "           0.0000,  0.0000,  0.0000,  1.0000,  1.0000,  1.0000,  1.0000,\n",
      "           1.0000,  1.0000,  0.0000,  1.0000,  1.0000,  0.0000,  0.0000,\n",
      "           0.0000,  1.0000,  0.0000,  1.0000,  3.0000,  0.5892,  1.0000,\n",
      "           1.5371]],\n",
      "\n",
      "        [[ 0.0000,  1.0000,  1.0000,  1.0000,  1.0000,  0.0000,  0.0000,\n",
      "           0.0000,  1.0000,  0.0000,  1.0000,  0.0000,  0.0000,  0.0000,\n",
      "           1.0000,  1.0000,  1.0000,  0.0000,  1.0000,  0.0000,  1.0000,\n",
      "           1.0000,  0.0000,  0.0000,  1.0000,  1.0000,  1.0000,  0.0000,\n",
      "           1.0000,  0.0000,  1.0000,  0.0000, 12.0000,  4.5192,  1.0000,\n",
      "           0.9820]]])\n",
      "tensor([[1.],\n",
      "        [1.],\n",
      "        [1.],\n",
      "        [0.]])\n"
     ]
    }
   ],
   "source": [
    "for x_batch, y_batch in batches(X, y, bs=4):\n",
    "    print(x_batch)\n",
    "    print(y_batch)\n",
    "    break"
   ]
  },
  {
   "attachments": {},
   "cell_type": "markdown",
   "metadata": {},
   "source": [
    "# Model"
   ]
  },
  {
   "cell_type": "code",
   "execution_count": 1211,
   "metadata": {},
   "outputs": [],
   "source": [
    "class RecommendationModel(nn.Module):\n",
    "    def __init__(self, num_features, num_factors=50, embedding_dropout=0.02, hidden=10, dropouts=0.2):\n",
    "        super().__init__()\n",
    "        hidden = get_list(hidden)\n",
    "        dropouts = get_list(dropouts)\n",
    "        n_last = hidden[-1]\n",
    "\n",
    "        def gen_layers(n_in):\n",
    "            nonlocal hidden, dropouts\n",
    "            assert len(dropouts) <= len(hidden)\n",
    "\n",
    "            for n_out, rate in zip_longest(hidden, dropouts):\n",
    "                yield nn.Linear(n_in, n_out)\n",
    "                yield nn.ReLU()\n",
    "                if rate is not None and rate > 0.:\n",
    "                    yield nn.Dropout(rate)\n",
    "                n_in = n_out\n",
    "\n",
    "        self.features = nn.Linear(num_features, num_factors * 2)\n",
    "        self.drop = nn.Dropout(embedding_dropout)\n",
    "        self.hidden = nn.Sequential(*list(gen_layers(num_factors * 2)))\n",
    "        self.fc = nn.Linear(n_last, 1)\n",
    "        self._init()\n",
    "\n",
    "    def forward(self, x):\n",
    "        x = self.features(x)\n",
    "        x = self.drop(x)\n",
    "        x = self.hidden(x)\n",
    "        out = torch.sigmoid(self.fc(x))\n",
    "        return out\n",
    "\n",
    "    def _init(self):\n",
    "        def init(m):\n",
    "            if type(m) == nn.Linear:\n",
    "                torch.nn.init.xavier_uniform_(m.weight)\n",
    "                m.bias.data.fill_(0.01)\n",
    "\n",
    "        self.features.apply(init)\n",
    "        self.hidden.apply(init)\n",
    "        init(self.fc)\n",
    "\n",
    "\n",
    "def get_list(n):\n",
    "    if isinstance(n, (int, float)):\n",
    "        return [n]\n",
    "    elif hasattr(n, '__iter__'):\n",
    "        return list(n)\n",
    "    raise TypeError('layers configuration should be a single number or a list of numbers')"
   ]
  },
  {
   "cell_type": "code",
   "execution_count": 1212,
   "metadata": {},
   "outputs": [
    {
     "data": {
      "text/plain": [
       "RecommendationModel(\n",
       "  (features): Linear(in_features=5, out_features=10, bias=True)\n",
       "  (drop): Dropout(p=0.02, inplace=False)\n",
       "  (hidden): Sequential(\n",
       "    (0): Linear(in_features=10, out_features=100, bias=True)\n",
       "    (1): ReLU()\n",
       "    (2): Dropout(p=0.1, inplace=False)\n",
       "  )\n",
       "  (fc): Linear(in_features=100, out_features=1, bias=True)\n",
       ")"
      ]
     },
     "execution_count": 1212,
     "metadata": {},
     "output_type": "execute_result"
    }
   ],
   "source": [
    "RecommendationModel(num_features=num_fields, num_factors=5, hidden=100, dropouts=0.1)"
   ]
  },
  {
   "attachments": {},
   "cell_type": "markdown",
   "metadata": {},
   "source": [
    "# Training"
   ]
  },
  {
   "attachments": {},
   "cell_type": "markdown",
   "metadata": {},
   "source": [
    "### Cyclical Learing Rate"
   ]
  },
  {
   "cell_type": "code",
   "execution_count": 1213,
   "metadata": {},
   "outputs": [],
   "source": [
    "class CyclicLR(_LRScheduler):\n",
    "    \n",
    "    def __init__(self, optimizer, schedule, last_epoch=-1):\n",
    "        assert callable(schedule)\n",
    "        self.schedule = schedule\n",
    "        super().__init__(optimizer, last_epoch)\n",
    "\n",
    "    def get_lr(self):\n",
    "        return [self.schedule(self.last_epoch, lr) for lr in self.base_lrs]"
   ]
  },
  {
   "cell_type": "code",
   "execution_count": 1214,
   "metadata": {},
   "outputs": [],
   "source": [
    "def triangular(step_size, max_lr, method='triangular', gamma=0.99):\n",
    "    \n",
    "    def scheduler(epoch, base_lr):\n",
    "        period = 2 * step_size\n",
    "        cycle = math.floor(1 + epoch/period)\n",
    "        x = abs(epoch/step_size - 2*cycle + 1)\n",
    "        delta = (max_lr - base_lr)*max(0, (1 - x))\n",
    "\n",
    "        if method == 'triangular':\n",
    "            pass  # we've already done\n",
    "        elif method == 'triangular2':\n",
    "            delta /= float(2 ** (cycle - 1))\n",
    "        elif method == 'exp_range':\n",
    "            delta *= (gamma**epoch)\n",
    "        else:\n",
    "            raise ValueError('unexpected method: %s' % method)\n",
    "            \n",
    "        return base_lr + delta\n",
    "        \n",
    "    return scheduler"
   ]
  },
  {
   "cell_type": "code",
   "execution_count": 1215,
   "metadata": {},
   "outputs": [],
   "source": [
    "def cosine(t_max, eta_min=0):\n",
    "    \n",
    "    def scheduler(epoch, base_lr):\n",
    "        t = epoch % t_max\n",
    "        return eta_min + (base_lr - eta_min)*(1 + math.cos(math.pi*t/t_max))/2\n",
    "    \n",
    "    return scheduler"
   ]
  },
  {
   "cell_type": "code",
   "execution_count": 1216,
   "metadata": {},
   "outputs": [],
   "source": [
    "def plot_lr(schedule):\n",
    "    ts = list(range(1000))\n",
    "    y = [schedule(t, 0.001) for t in ts]\n",
    "    plt.plot(ts, y)"
   ]
  },
  {
   "attachments": {},
   "cell_type": "markdown",
   "metadata": {},
   "source": [
    "### Training Loop"
   ]
  },
  {
   "cell_type": "code",
   "execution_count": 1217,
   "metadata": {},
   "outputs": [
    {
     "name": "stdout",
     "output_type": "stream",
     "text": [
      "{'train': 8000, 'val': 2000}\n"
     ]
    }
   ],
   "source": [
    "X_train, X_valid, y_train, y_valid = train_test_split(X, y, test_size=0.2, random_state=RANDOM_STATE)\n",
    "datasets = {'train': (X_train, y_train), 'val': (X_valid, y_valid)}\n",
    "dataset_sizes = {'train': len(X_train), 'val': len(X_valid)}\n",
    "\n",
    "print(dataset_sizes)"
   ]
  },
  {
   "cell_type": "code",
   "execution_count": 1218,
   "metadata": {},
   "outputs": [
    {
     "name": "stdout",
     "output_type": "stream",
     "text": [
      "RecommendationModel(\n",
      "  (features): Linear(in_features=36, out_features=60, bias=True)\n",
      "  (drop): Dropout(p=0.02, inplace=False)\n",
      "  (hidden): Sequential(\n",
      "    (0): Linear(in_features=60, out_features=100, bias=True)\n",
      "    (1): ReLU()\n",
      "    (2): Dropout(p=0.25, inplace=False)\n",
      "    (3): Linear(in_features=100, out_features=200, bias=True)\n",
      "    (4): ReLU()\n",
      "    (5): Dropout(p=0.5, inplace=False)\n",
      "    (6): Linear(in_features=200, out_features=300, bias=True)\n",
      "    (7): ReLU()\n",
      "    (8): Dropout(p=0.5, inplace=False)\n",
      "    (9): Linear(in_features=300, out_features=200, bias=True)\n",
      "    (10): ReLU()\n",
      "    (11): Dropout(p=0.25, inplace=False)\n",
      "    (12): Linear(in_features=200, out_features=100, bias=True)\n",
      "    (13): ReLU()\n",
      "  )\n",
      "  (fc): Linear(in_features=100, out_features=1, bias=True)\n",
      ")\n"
     ]
    }
   ],
   "source": [
    "rec = RecommendationModel(\n",
    "    num_features=36, \n",
    "    num_factors=30,\n",
    "    hidden=[100, 200, 300, 200, 100],\n",
    "    dropouts=[0.25, 0.5, 0.5, 0.25]\n",
    ")\n",
    "print(rec)"
   ]
  },
  {
   "cell_type": "code",
   "execution_count": 1219,
   "metadata": {},
   "outputs": [],
   "source": [
    "lr = 1e-3\n",
    "wd = 1e-5\n",
    "bs = 2000\n",
    "n_epochs = 200\n",
    "patience = 20\n",
    "no_improvements = 0\n",
    "best_loss = np.inf\n",
    "best_weights = None\n",
    "history = []\n",
    "lr_history = []\n",
    "\n",
    "device = torch.device('cuda:0' if torch.cuda.is_available() else 'cpu')\n",
    "\n",
    "rec.to(device)\n",
    "criterion = nn.MSELoss(reduction='sum')\n",
    "optimizer = optim.Adam(rec.parameters(), lr=lr, weight_decay=wd)\n",
    "iterations_per_epoch = int(math.ceil(dataset_sizes['train'] // bs))\n",
    "if iterations_per_epoch == 0: iterations_per_epoch = 1\n",
    "scheduler = CyclicLR(optimizer, cosine(t_max=iterations_per_epoch * 2, eta_min=lr/10))"
   ]
  },
  {
   "cell_type": "code",
   "execution_count": 1229,
   "metadata": {},
   "outputs": [
    {
     "name": "stdout",
     "output_type": "stream",
     "text": [
      "tensor([[0.0000e+00, 1.0000e+00, 0.0000e+00,  ..., 7.4036e+00, 1.0000e+00,\n",
      "         7.2557e-01],\n",
      "        [0.0000e+00, 1.0000e+00, 0.0000e+00,  ..., 1.6127e+00, 0.0000e+00,\n",
      "         3.2351e-03],\n",
      "        [0.0000e+00, 1.0000e+00, 0.0000e+00,  ..., 8.4315e+00, 1.0000e+00,\n",
      "         1.1995e+00],\n",
      "        ...,\n",
      "        [1.0000e+00, 1.0000e+00, 1.0000e+00,  ..., 1.4763e-01, 0.0000e+00,\n",
      "         9.3799e-01],\n",
      "        [1.0000e+00, 1.0000e+00, 0.0000e+00,  ..., 8.7333e+00, 0.0000e+00,\n",
      "         1.5470e+00],\n",
      "        [0.0000e+00, 1.0000e+00, 1.0000e+00,  ..., 5.5839e+00, 0.0000e+00,\n",
      "         1.7901e+00]])\n",
      "tensor([[1.0000, 0.0000, 1.0000,  ..., 8.4248, 1.0000, 1.4467],\n",
      "        [0.0000, 1.0000, 0.0000,  ..., 0.3186, 1.0000, 0.4292],\n",
      "        [0.0000, 1.0000, 1.0000,  ..., 6.7504, 0.0000, 1.7579],\n",
      "        ...,\n",
      "        [1.0000, 0.0000, 1.0000,  ..., 1.5124, 0.0000, 1.4722],\n",
      "        [0.0000, 1.0000, 1.0000,  ..., 6.5453, 1.0000, 0.9814],\n",
      "        [0.0000, 1.0000, 0.0000,  ..., 6.1220, 0.0000, 0.4849]])\n",
      "tensor([[0.0000, 0.0000, 0.0000,  ..., 3.8640, 1.0000, 0.6977],\n",
      "        [0.0000, 0.0000, 0.0000,  ..., 9.2799, 0.0000, 0.0591],\n",
      "        [0.0000, 1.0000, 0.0000,  ..., 0.8406, 0.0000, 0.2847],\n",
      "        ...,\n",
      "        [1.0000, 1.0000, 0.0000,  ..., 8.2470, 0.0000, 0.7058],\n",
      "        [0.0000, 0.0000, 0.0000,  ..., 4.9150, 0.0000, 1.0427],\n",
      "        [0.0000, 1.0000, 0.0000,  ..., 6.8510, 1.0000, 0.4323]])\n",
      "tensor([[1.0000, 0.0000, 0.0000,  ..., 4.4437, 0.0000, 0.9910],\n",
      "        [1.0000, 0.0000, 0.0000,  ..., 6.1961, 0.0000, 1.4567],\n",
      "        [1.0000, 0.0000, 0.0000,  ..., 0.6710, 1.0000, 1.2252],\n",
      "        ...,\n",
      "        [0.0000, 0.0000, 0.0000,  ..., 9.2180, 1.0000, 1.7627],\n",
      "        [0.0000, 0.0000, 0.0000,  ..., 8.2634, 1.0000, 1.6360],\n",
      "        [1.0000, 0.0000, 0.0000,  ..., 6.6957, 0.0000, 1.4433]])\n",
      "tensor([[1.0000, 0.0000, 0.0000,  ..., 1.9817, 1.0000, 0.4680],\n",
      "        [0.0000, 0.0000, 1.0000,  ..., 7.7780, 0.0000, 0.4059],\n",
      "        [0.0000, 1.0000, 0.0000,  ..., 0.5892, 1.0000, 1.5371],\n",
      "        ...,\n",
      "        [0.0000, 1.0000, 1.0000,  ..., 0.8728, 0.0000, 0.6220],\n",
      "        [0.0000, 0.0000, 1.0000,  ..., 8.3134, 0.0000, 0.3284],\n",
      "        [0.0000, 0.0000, 1.0000,  ..., 9.7905, 1.0000, 1.7343]])\n",
      "[001/200] train: 0.2234 - val: 0.2244\n",
      "early stopping after epoch 001\n"
     ]
    }
   ],
   "source": [
    "for epoch in range(n_epochs):\n",
    "    stats = {'epoch': epoch + 1, 'total': n_epochs}\n",
    "    \n",
    "    for phase in ('train', 'val'):\n",
    "        if phase == 'train':\n",
    "            training = True\n",
    "        else:\n",
    "            training = False\n",
    "\n",
    "        running_loss = 0\n",
    "        n_batches = 0\n",
    "        \n",
    "        for batch in batches(*datasets[phase], shuffle=training, bs=bs):\n",
    "            x_batch, y_batch = [b.to(device) for b in batch]\n",
    "            x_batch = x_batch.view(x_batch.size(0), -1)\n",
    "            optimizer.zero_grad()\n",
    "        \n",
    "            # compute gradients only during 'train' phase\n",
    "            with torch.set_grad_enabled(training):\n",
    "                outputs = rec(x_batch)\n",
    "                loss = criterion(outputs, y_batch)\n",
    "                \n",
    "                # don't update weights and rates when in 'val' phase\n",
    "                if training:\n",
    "                    scheduler.step()\n",
    "                    loss.backward()\n",
    "                    optimizer.step()\n",
    "                    lr_history.extend(scheduler.get_lr())\n",
    "                    \n",
    "            running_loss += loss.item()\n",
    "            \n",
    "        epoch_loss = running_loss / dataset_sizes[phase]\n",
    "        stats[phase] = epoch_loss\n",
    "        \n",
    "        # early stopping: save weights of the best model so far\n",
    "        if phase == 'val':\n",
    "            if epoch_loss < best_loss:\n",
    "                print('loss improvement on epoch: %d' % (epoch + 1))\n",
    "                best_loss = epoch_loss\n",
    "                best_weights = copy.deepcopy(rec.state_dict())\n",
    "                no_improvements = 0\n",
    "            else:\n",
    "                no_improvements += 1\n",
    "                \n",
    "    history.append(stats)\n",
    "    print('[{epoch:03d}/{total:03d}] train: {train:.4f} - val: {val:.4f}'.format(**stats))\n",
    "    if no_improvements >= patience:\n",
    "        print('early stopping after epoch {epoch:03d}'.format(**stats))\n",
    "        break"
   ]
  },
  {
   "cell_type": "code",
   "execution_count": 1221,
   "metadata": {},
   "outputs": [
    {
     "data": {
      "image/png": "[encoded data removed]",
      "text/plain": [
       "<Figure size 640x480 with 1 Axes>"
      ]
     },
     "metadata": {},
     "output_type": "display_data"
    }
   ],
   "source": [
    "ax = pd.DataFrame(history).drop(columns='total').plot(x='epoch')"
   ]
  },
  {
   "cell_type": "code",
   "execution_count": 1222,
   "metadata": {},
   "outputs": [
    {
     "data": {
      "image/png": "[encoded data removed]",
      "text/plain": [
       "<Figure size 640x480 with 1 Axes>"
      ]
     },
     "metadata": {},
     "output_type": "display_data"
    }
   ],
   "source": [
    "_ = plt.plot(lr_history[:2*iterations_per_epoch])"
   ]
  },
  {
   "cell_type": "code",
   "execution_count": 1223,
   "metadata": {},
   "outputs": [
    {
     "data": {
      "text/plain": [
       "<All keys matched successfully>"
      ]
     },
     "execution_count": 1223,
     "metadata": {},
     "output_type": "execute_result"
    }
   ],
   "source": [
    "rec.load_state_dict(best_weights)"
   ]
  },
  {
   "cell_type": "code",
   "execution_count": 1224,
   "metadata": {},
   "outputs": [
    {
     "name": "stdout",
     "output_type": "stream",
     "text": [
      "groud_truth: [1. 1. 1. ... 0. 0. 0.]\n",
      "predictions: [0.53005445 0.63714737 0.65972382 ... 0.63318056 0.64142644 0.67948061]\n",
      "decision: [1 1 1 ... 1 1 1]\n",
      "rmse: 0.4767\n"
     ]
    }
   ],
   "source": [
    "groud_truth, predictions = [], []\n",
    "\n",
    "with torch.no_grad():\n",
    "    for batch in batches(*datasets['val'], shuffle=False, bs=bs):\n",
    "        x_batch, y_batch = [b.to(device) for b in batch]\n",
    "        outputs = rec(x_batch)\n",
    "        groud_truth.extend(y_batch.tolist())\n",
    "        predictions.extend(outputs.tolist())\n",
    "\n",
    "groud_truth = np.asarray(groud_truth).ravel()\n",
    "predictions = np.asarray(predictions).ravel()\n",
    "\n",
    "print(f'groud_truth: {groud_truth}')\n",
    "print(f'predictions: {predictions}')\n",
    "print(f'decision: {np.round(predictions).astype(int)}')\n",
    "print('rmse: %.4f' % np.sqrt(mean_squared_error(groud_truth, predictions)))"
   ]
  },
  {
   "cell_type": "code",
   "execution_count": 1228,
   "metadata": {},
   "outputs": [],
   "source": [
    "checkpoint_dir = 'checkpoints'\n",
    "if os.path.exists(checkpoint_dir) is False:\n",
    "    os.makedirs(checkpoint_dir)\n",
    "\n",
    "checkpoint_path = f'{checkpoint_dir}/recmodel.pth'\n",
    "torch.save(rec, checkpoint_path)"
   ]
  },
  {
   "attachments": {},
   "cell_type": "markdown",
   "metadata": {},
   "source": [
    "# Save model"
   ]
  },
  {
   "cell_type": "code",
   "execution_count": 1235,
   "metadata": {},
   "outputs": [
    {
     "name": "stdout",
     "output_type": "stream",
     "text": [
      "================ Diagnostic Run torch.onnx.export version 2.0.0 ================\n",
      "verbose: False, log level: Level.ERROR\n",
      "======================= 0 NONE 0 NOTE 0 WARNING 0 ERROR ========================\n",
      "\n"
     ]
    }
   ],
   "source": [
    "# Save model as ONNX\n",
    "rec.eval()\n",
    "dummy_input = x_batch\n",
    "torch.onnx.export(rec, dummy_input, 'model.onnx', opset_version=11)"
   ]
  }
 ],
 "metadata": {
  "kernelspec": {
   "display_name": "base",
   "language": "python",
   "name": "python3"
  },
  "language_info": {
   "codemirror_mode": {
    "name": "ipython",
    "version": 3
   },
   "file_extension": ".py",
   "mimetype": "text/x-python",
   "name": "python",
   "nbconvert_exporter": "python",
   "pygments_lexer": "ipython3",
   "version": "3.9.7"
  },
  "orig_nbformat": 4
 },
 "nbformat": 4,
 "nbformat_minor": 2
}
